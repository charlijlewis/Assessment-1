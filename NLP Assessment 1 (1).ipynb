{
 "cells": [
  {
   "cell_type": "markdown",
   "id": "081c5028",
   "metadata": {},
   "source": [
    "# What do reactions to the 2023 Barbie movie reveal about public opinion on gender issues?"
   ]
  },
  {
   "cell_type": "markdown",
   "id": "9af2213c",
   "metadata": {},
   "source": [
    "## Introduction\n",
    "The 2023 Barbie movie by Greta Gerwig, which explores themes of feminism, empowerment and self-acceptance, has provoked fierce debate on gender-related issues. The film has highlighted the diverse and often polar perspectives on these themes through its questioning of societal norms and stereotypes. \n",
    "\n",
    "This project seeks to utilise the vast public conversation produced from the films release, to learn more about the public opinion on gender issues. NLP analysis including sentiment analysis and topic modelling, will be performed on a corpus of Reddit post comments. "
   ]
  },
  {
   "cell_type": "markdown",
   "id": "4b148f2f",
   "metadata": {},
   "source": [
    "## Setting up the notebook\n",
    "Setting up the notebook is the crucial first step, and ensures I have the libraries and tools required for data collection, processing and initial analysis. Short descriptions have been embedded in the below code cell to explain the functions of each tool."
   ]
  },
  {
   "cell_type": "code",
   "execution_count": 2,
   "id": "e5dda2a5",
   "metadata": {},
   "outputs": [
    {
     "name": "stderr",
     "output_type": "stream",
     "text": [
      "[nltk_data] Downloading package punkt to\n",
      "[nltk_data]     C:\\Users\\charl\\AppData\\Roaming\\nltk_data...\n",
      "[nltk_data]   Package punkt is already up-to-date!\n",
      "[nltk_data] Downloading package wordnet to\n",
      "[nltk_data]     C:\\Users\\charl\\AppData\\Roaming\\nltk_data...\n",
      "[nltk_data]   Package wordnet is already up-to-date!\n",
      "[nltk_data] Downloading package stopwords to\n",
      "[nltk_data]     C:\\Users\\charl\\AppData\\Roaming\\nltk_data...\n",
      "[nltk_data]   Package stopwords is already up-to-date!\n"
     ]
    },
    {
     "name": "stdout",
     "output_type": "stream",
     "text": [
      "Requirement already satisfied: PRAW in c:\\users\\charl\\anaconda3\\lib\\site-packages (7.7.1)\n",
      "Requirement already satisfied: prawcore<3,>=2.1 in c:\\users\\charl\\anaconda3\\lib\\site-packages (from PRAW) (2.4.0)\n",
      "Requirement already satisfied: update-checker>=0.18 in c:\\users\\charl\\anaconda3\\lib\\site-packages (from PRAW) (0.18.0)\n",
      "Requirement already satisfied: websocket-client>=0.54.0 in c:\\users\\charl\\anaconda3\\lib\\site-packages (from PRAW) (0.58.0)\n",
      "Requirement already satisfied: requests<3.0,>=2.6.0 in c:\\users\\charl\\anaconda3\\lib\\site-packages (from prawcore<3,>=2.1->PRAW) (2.31.0)\n",
      "Requirement already satisfied: six in c:\\users\\charl\\anaconda3\\lib\\site-packages (from websocket-client>=0.54.0->PRAW) (1.16.0)\n",
      "Requirement already satisfied: charset-normalizer<4,>=2 in c:\\users\\charl\\anaconda3\\lib\\site-packages (from requests<3.0,>=2.6.0->prawcore<3,>=2.1->PRAW) (2.0.4)\n",
      "Requirement already satisfied: idna<4,>=2.5 in c:\\users\\charl\\anaconda3\\lib\\site-packages (from requests<3.0,>=2.6.0->prawcore<3,>=2.1->PRAW) (3.4)\n",
      "Requirement already satisfied: urllib3<3,>=1.21.1 in c:\\users\\charl\\anaconda3\\lib\\site-packages (from requests<3.0,>=2.6.0->prawcore<3,>=2.1->PRAW) (1.26.16)\n",
      "Requirement already satisfied: certifi>=2017.4.17 in c:\\users\\charl\\anaconda3\\lib\\site-packages (from requests<3.0,>=2.6.0->prawcore<3,>=2.1->PRAW) (2024.2.2)\n"
     ]
    }
   ],
   "source": [
    "import nltk ## natural language toolkit\n",
    "nltk.download('punkt') ##tokenizer that divides a text into a list of sentences\n",
    "nltk.download('wordnet') ##lexical database of english, finds relationships between words like synonyms, antonyms etc\n",
    "nltk.download('stopwords') ##tool that elimates words that are widely used such as 'the', 'a' and 'in'\n",
    "\n",
    "from nltk.corpus import stopwords ##disregards widely used words that provide little meaning\n",
    "stops = set(stopwords.words('english'))\n",
    "\n",
    "from nltk.stem import WordNetLemmatizer ##looks for lemmas of words from the wordnet database, returning the word in base form\n",
    "lemmatizer = WordNetLemmatizer()\n",
    "\n",
    "from nltk import stem ##removes morphological affixes from words, leaving only the word stem\n",
    "stemmer = stem.PorterStemmer()\n",
    "\n",
    "from nltk import word_tokenize ##splits a given sentence into words\n",
    "\n",
    "import string ##module that provides tools to work with strings\n",
    "punct = list(string.punctuation) ##list containing all punctuation characters\n",
    "\n",
    "import requests ##library for making http requests\n",
    "import pandas as pd ##library for data analysis\n",
    "import numpy as np ##library for fundamental python programming\n",
    "import datetime ##tool for working with dates and times\n",
    "import matplotlib.pyplot as plt ##library for graph plotting and visualisation\n",
    "import seaborn as sns ##library for data visualisation based on matplotlib\n",
    "sns.set()\n",
    "\n",
    "!pip install PRAW\n",
    "import praw ##python reddit api wrapper (allows access to reddit's api)\n"
   ]
  },
  {
   "cell_type": "markdown",
   "id": "6afb05b7",
   "metadata": {},
   "source": [
    "## Data collection\n",
    "Reddit is an online forum and its free API allows you to scrape data from its posts, such as obtaining the text of the comment, the subreddit it comes under and the date it was posted. I have chosen to perform analysis on Reddit comments as the data collection process is simple, and Reddit as a platform gains large public attraction which will ensure a sizeable corpus. \n",
    "\n",
    "On the Reddit website I searched for 'Barbie Movie' and filtered the results by 'Most Comments' and 'All Time'. I selected the first 8 posts that focused on discussions about the Barbie movie, disregarding posts that were unrelated. Using the created function 'submission', I was able to scrape the data from these 8 posts and then concatenate this data to form a combined larger dataset, which was then stored in csv from for ease. This produced my corpus of data with 7,522 comments."
   ]
  },
  {
   "cell_type": "code",
   "execution_count": 3,
   "id": "2c6eecde",
   "metadata": {},
   "outputs": [],
   "source": [
    "reddit = praw.Reddit(user_agent='VAD',\n",
    "                     client_id='rf2nevfPWH1MEOpry842hA', client_secret=\"pTvbdBbKSbLUvIh4IbEMsz4RW96VpQ\",\n",
    "                     username='pr0blems0lver15', password='YuMYuMs33!')"
   ]
  },
  {
   "cell_type": "code",
   "execution_count": 4,
   "id": "14e1bf66",
   "metadata": {},
   "outputs": [],
   "source": [
    "def submission(submission_id): \n",
    "    try:\n",
    "        submission = reddit.submission(url = submission_id)\n",
    "    except:\n",
    "        submission = reddit.submission(submission_id)\n",
    "    title = submission.title\n",
    "    submission.comments.replace_more()\n",
    "    text = [i.body for i in submission.comments]\n",
    "    score = [i.score for i in submission.comments]\n",
    "    user = [i.author for i in submission.comments]\n",
    "    date = [datetime.datetime.fromtimestamp(i.created) for i in submission.comments]\n",
    "    df = pd.DataFrame()\n",
    "    df['text'] = text\n",
    "    df['datetime'] = date\n",
    "    df['score'] = score\n",
    "    df['subreddit'] = submission.subreddit\n",
    "    df['redditor'] = user\n",
    "    df['type'] = 'comment'\n",
    "    df['title'] = title\n",
    "    df = df.sort_values('score', ascending = False).reset_index(drop = True)\n",
    "    return df"
   ]
  },
  {
   "cell_type": "code",
   "execution_count": 5,
   "id": "dee8e56d",
   "metadata": {},
   "outputs": [],
   "source": [
    "## don't run this cell it will take a long time!!!\n",
    "\n",
    "data1 = submission('https://www.reddit.com/r/movies/comments/155afzv/official_discussion_barbie_spoilers/')\n",
    "\n",
    "data2 = submission('https://www.reddit.com/r/AskMen/comments/157gdyk/men_who_have_watched_barbie_what_did_you_think/')\n",
    "\n",
    "data3 = submission('https://www.reddit.com/r/movies/comments/19cro5j/the_barbie_movies_unexpected_message_for_men/')\n",
    "\n",
    "data4 = submission('https://www.reddit.com/r/TwoXChromosomes/comments/1799rqs/women_who_disliked_the_barbie_movie_why/')\n",
    "\n",
    "data5 = submission('https://www.reddit.com/r/TrueFilm/comments/156zt07/the_barbie_movie_to_me_seemed_to_be_supportive/')\n",
    "\n",
    "data6 = submission('https://www.reddit.com/r/TrueFilm/comments/158thxd/is_the_message_of_barbie_2023_going_over/')\n",
    "\n",
    "data7 = submission('https://www.reddit.com/r/facepalm/comments/15azjti/is_the_barbie_movie_really_that_inappropriate_in/')\n",
    "\n",
    "data8 = submission('https://www.reddit.com/r/movies/comments/13rll7o/barbie_main_trailer/')"
   ]
  },
  {
   "cell_type": "code",
   "execution_count": 13,
   "id": "f7d7ae12",
   "metadata": {},
   "outputs": [],
   "source": [
    "## don't run this cell!!!\n",
    "\n",
    "combined_data = pd.concat([data1, data2, data3, data4, data5, data6, data7, data8], axis = 0)\n",
    "combined_data.to_csv(\"combined_data.csv\")"
   ]
  },
  {
   "cell_type": "code",
   "execution_count": 15,
   "id": "ead3b732",
   "metadata": {},
   "outputs": [
    {
     "data": {
      "text/html": [
       "<div>\n",
       "<style scoped>\n",
       "    .dataframe tbody tr th:only-of-type {\n",
       "        vertical-align: middle;\n",
       "    }\n",
       "\n",
       "    .dataframe tbody tr th {\n",
       "        vertical-align: top;\n",
       "    }\n",
       "\n",
       "    .dataframe thead th {\n",
       "        text-align: right;\n",
       "    }\n",
       "</style>\n",
       "<table border=\"1\" class=\"dataframe\">\n",
       "  <thead>\n",
       "    <tr style=\"text-align: right;\">\n",
       "      <th></th>\n",
       "      <th>text</th>\n",
       "      <th>datetime</th>\n",
       "      <th>score</th>\n",
       "      <th>subreddit</th>\n",
       "      <th>redditor</th>\n",
       "      <th>type</th>\n",
       "      <th>title</th>\n",
       "    </tr>\n",
       "  </thead>\n",
       "  <tbody>\n",
       "    <tr>\n",
       "      <th>0</th>\n",
       "      <td>“To be honest, once I found out horses have ve...</td>\n",
       "      <td>2023-07-21 03:38:04</td>\n",
       "      <td>9398</td>\n",
       "      <td>movies</td>\n",
       "      <td>Westtexasbizbot</td>\n",
       "      <td>comment</td>\n",
       "      <td>Official Discussion - Barbie [SPOILERS]</td>\n",
       "    </tr>\n",
       "    <tr>\n",
       "      <th>1</th>\n",
       "      <td>SUBLIME</td>\n",
       "      <td>2023-07-21 03:16:22</td>\n",
       "      <td>6618</td>\n",
       "      <td>movies</td>\n",
       "      <td>diabetesdavid</td>\n",
       "      <td>comment</td>\n",
       "      <td>Official Discussion - Barbie [SPOILERS]</td>\n",
       "    </tr>\n",
       "    <tr>\n",
       "      <th>2</th>\n",
       "      <td>Everyone who doubted Ryan Gosling, or called h...</td>\n",
       "      <td>2023-07-21 03:12:49</td>\n",
       "      <td>6597</td>\n",
       "      <td>movies</td>\n",
       "      <td>SavageWolfe98</td>\n",
       "      <td>comment</td>\n",
       "      <td>Official Discussion - Barbie [SPOILERS]</td>\n",
       "    </tr>\n",
       "    <tr>\n",
       "      <th>3</th>\n",
       "      <td>That Ken war sequence that was half battle/hal...</td>\n",
       "      <td>2023-07-21 04:11:43</td>\n",
       "      <td>6424</td>\n",
       "      <td>movies</td>\n",
       "      <td>MondayAssasin</td>\n",
       "      <td>comment</td>\n",
       "      <td>Official Discussion - Barbie [SPOILERS]</td>\n",
       "    </tr>\n",
       "    <tr>\n",
       "      <th>4</th>\n",
       "      <td>I fucking lost it when Barbie (Margot Robbie) ...</td>\n",
       "      <td>2023-07-21 12:22:49</td>\n",
       "      <td>6238</td>\n",
       "      <td>movies</td>\n",
       "      <td>WyngZero</td>\n",
       "      <td>comment</td>\n",
       "      <td>Official Discussion - Barbie [SPOILERS]</td>\n",
       "    </tr>\n",
       "    <tr>\n",
       "      <th>...</th>\n",
       "      <td>...</td>\n",
       "      <td>...</td>\n",
       "      <td>...</td>\n",
       "      <td>...</td>\n",
       "      <td>...</td>\n",
       "      <td>...</td>\n",
       "      <td>...</td>\n",
       "    </tr>\n",
       "    <tr>\n",
       "      <th>759</th>\n",
       "      <td>Piss off Hollywood, you're drunk</td>\n",
       "      <td>2023-05-25 17:59:46</td>\n",
       "      <td>-7</td>\n",
       "      <td>movies</td>\n",
       "      <td>Orodruin666</td>\n",
       "      <td>comment</td>\n",
       "      <td>Barbie | Main Trailer</td>\n",
       "    </tr>\n",
       "    <tr>\n",
       "      <th>760</th>\n",
       "      <td>This unironically looks like peak cinema</td>\n",
       "      <td>2023-05-25 17:35:42</td>\n",
       "      <td>-8</td>\n",
       "      <td>movies</td>\n",
       "      <td>Daydream_machine</td>\n",
       "      <td>comment</td>\n",
       "      <td>Barbie | Main Trailer</td>\n",
       "    </tr>\n",
       "    <tr>\n",
       "      <th>761</th>\n",
       "      <td>President Joe Biden Released a statement follo...</td>\n",
       "      <td>2023-05-25 18:08:08</td>\n",
       "      <td>-8</td>\n",
       "      <td>movies</td>\n",
       "      <td>No_Gur6255</td>\n",
       "      <td>comment</td>\n",
       "      <td>Barbie | Main Trailer</td>\n",
       "    </tr>\n",
       "    <tr>\n",
       "      <th>762</th>\n",
       "      <td>This looks stupid career ended for Margot and ...</td>\n",
       "      <td>2023-05-25 17:30:06</td>\n",
       "      <td>-16</td>\n",
       "      <td>movies</td>\n",
       "      <td>WrongDistribution307</td>\n",
       "      <td>comment</td>\n",
       "      <td>Barbie | Main Trailer</td>\n",
       "    </tr>\n",
       "    <tr>\n",
       "      <th>763</th>\n",
       "      <td>[deleted]</td>\n",
       "      <td>2023-05-25 17:38:32</td>\n",
       "      <td>-16</td>\n",
       "      <td>movies</td>\n",
       "      <td>NaN</td>\n",
       "      <td>comment</td>\n",
       "      <td>Barbie | Main Trailer</td>\n",
       "    </tr>\n",
       "  </tbody>\n",
       "</table>\n",
       "<p>7522 rows × 7 columns</p>\n",
       "</div>"
      ],
      "text/plain": [
       "                                                  text             datetime  \\\n",
       "0    “To be honest, once I found out horses have ve...  2023-07-21 03:38:04   \n",
       "1                                              SUBLIME  2023-07-21 03:16:22   \n",
       "2    Everyone who doubted Ryan Gosling, or called h...  2023-07-21 03:12:49   \n",
       "3    That Ken war sequence that was half battle/hal...  2023-07-21 04:11:43   \n",
       "4    I fucking lost it when Barbie (Margot Robbie) ...  2023-07-21 12:22:49   \n",
       "..                                                 ...                  ...   \n",
       "759                   Piss off Hollywood, you're drunk  2023-05-25 17:59:46   \n",
       "760           This unironically looks like peak cinema  2023-05-25 17:35:42   \n",
       "761  President Joe Biden Released a statement follo...  2023-05-25 18:08:08   \n",
       "762  This looks stupid career ended for Margot and ...  2023-05-25 17:30:06   \n",
       "763                                          [deleted]  2023-05-25 17:38:32   \n",
       "\n",
       "     score subreddit              redditor     type  \\\n",
       "0     9398    movies       Westtexasbizbot  comment   \n",
       "1     6618    movies         diabetesdavid  comment   \n",
       "2     6597    movies         SavageWolfe98  comment   \n",
       "3     6424    movies         MondayAssasin  comment   \n",
       "4     6238    movies              WyngZero  comment   \n",
       "..     ...       ...                   ...      ...   \n",
       "759     -7    movies           Orodruin666  comment   \n",
       "760     -8    movies      Daydream_machine  comment   \n",
       "761     -8    movies            No_Gur6255  comment   \n",
       "762    -16    movies  WrongDistribution307  comment   \n",
       "763    -16    movies                   NaN  comment   \n",
       "\n",
       "                                       title  \n",
       "0    Official Discussion - Barbie [SPOILERS]  \n",
       "1    Official Discussion - Barbie [SPOILERS]  \n",
       "2    Official Discussion - Barbie [SPOILERS]  \n",
       "3    Official Discussion - Barbie [SPOILERS]  \n",
       "4    Official Discussion - Barbie [SPOILERS]  \n",
       "..                                       ...  \n",
       "759                    Barbie | Main Trailer  \n",
       "760                    Barbie | Main Trailer  \n",
       "761                    Barbie | Main Trailer  \n",
       "762                    Barbie | Main Trailer  \n",
       "763                    Barbie | Main Trailer  \n",
       "\n",
       "[7522 rows x 7 columns]"
      ]
     },
     "execution_count": 15,
     "metadata": {},
     "output_type": "execute_result"
    }
   ],
   "source": [
    "corpus = pd.read_csv('combined_data.csv', index_col = 0)\n",
    "corpus"
   ]
  },
  {
   "cell_type": "markdown",
   "id": "1fa3806e",
   "metadata": {},
   "source": [
    "## Data processing\n",
    "I first made sure that all the text was in string format before performing my function 'lemma'. The function first tokenizes the Reddit comments, which splits the text into a list of words called 'tokens'. It then lemmatizes these tokens and returns the base form of the word. The tokens are converted into lowercase and cleaned of stopwords and punctuation, producing a cleaned 'words' column in my corpus. The last step was resetting the index on the dataframe to prevent problems later on."
   ]
  },
  {
   "cell_type": "code",
   "execution_count": 97,
   "id": "4497988c",
   "metadata": {},
   "outputs": [],
   "source": [
    "corpus['text'] = [str(i) for i in corpus['text']]\n",
    "text = corpus['text']"
   ]
  },
  {
   "cell_type": "code",
   "execution_count": 98,
   "id": "a4c4edc6",
   "metadata": {},
   "outputs": [],
   "source": [
    "def lemma(text):\n",
    "    tokens = word_tokenize(text)\n",
    "    lemmas = [lemmatizer.lemmatize(i.lower()) for i in tokens]\n",
    "    lemmas = [i for i in lemmas if i not in stops and i not in punct]\n",
    "    return lemmas\n",
    "\n",
    "lemmas = [lemma(i) for i in (text)]"
   ]
  },
  {
   "cell_type": "code",
   "execution_count": 99,
   "id": "fa7cc182",
   "metadata": {},
   "outputs": [
    {
     "data": {
      "text/html": [
       "<div>\n",
       "<style scoped>\n",
       "    .dataframe tbody tr th:only-of-type {\n",
       "        vertical-align: middle;\n",
       "    }\n",
       "\n",
       "    .dataframe tbody tr th {\n",
       "        vertical-align: top;\n",
       "    }\n",
       "\n",
       "    .dataframe thead th {\n",
       "        text-align: right;\n",
       "    }\n",
       "</style>\n",
       "<table border=\"1\" class=\"dataframe\">\n",
       "  <thead>\n",
       "    <tr style=\"text-align: right;\">\n",
       "      <th></th>\n",
       "      <th>text</th>\n",
       "      <th>datetime</th>\n",
       "      <th>score</th>\n",
       "      <th>subreddit</th>\n",
       "      <th>redditor</th>\n",
       "      <th>type</th>\n",
       "      <th>title</th>\n",
       "      <th>words</th>\n",
       "    </tr>\n",
       "  </thead>\n",
       "  <tbody>\n",
       "    <tr>\n",
       "      <th>0</th>\n",
       "      <td>“To be honest, once I found out horses have ve...</td>\n",
       "      <td>2023-07-21 03:38:04</td>\n",
       "      <td>9398</td>\n",
       "      <td>movies</td>\n",
       "      <td>Westtexasbizbot</td>\n",
       "      <td>comment</td>\n",
       "      <td>Official Discussion - Barbie [SPOILERS]</td>\n",
       "      <td>[“, honest, found, horse, little, patriarchy, ...</td>\n",
       "    </tr>\n",
       "    <tr>\n",
       "      <th>1</th>\n",
       "      <td>SUBLIME</td>\n",
       "      <td>2023-07-21 03:16:22</td>\n",
       "      <td>6618</td>\n",
       "      <td>movies</td>\n",
       "      <td>diabetesdavid</td>\n",
       "      <td>comment</td>\n",
       "      <td>Official Discussion - Barbie [SPOILERS]</td>\n",
       "      <td>[sublime]</td>\n",
       "    </tr>\n",
       "    <tr>\n",
       "      <th>2</th>\n",
       "      <td>Everyone who doubted Ryan Gosling, or called h...</td>\n",
       "      <td>2023-07-21 03:12:49</td>\n",
       "      <td>6597</td>\n",
       "      <td>movies</td>\n",
       "      <td>SavageWolfe98</td>\n",
       "      <td>comment</td>\n",
       "      <td>Official Discussion - Barbie [SPOILERS]</td>\n",
       "      <td>[everyone, doubted, ryan, gosling, called, old...</td>\n",
       "    </tr>\n",
       "    <tr>\n",
       "      <th>3</th>\n",
       "      <td>That Ken war sequence that was half battle/hal...</td>\n",
       "      <td>2023-07-21 04:11:43</td>\n",
       "      <td>6424</td>\n",
       "      <td>movies</td>\n",
       "      <td>MondayAssasin</td>\n",
       "      <td>comment</td>\n",
       "      <td>Official Discussion - Barbie [SPOILERS]</td>\n",
       "      <td>[ken, war, sequence, wa, half, battle/half, mu...</td>\n",
       "    </tr>\n",
       "    <tr>\n",
       "      <th>4</th>\n",
       "      <td>I fucking lost it when Barbie (Margot Robbie) ...</td>\n",
       "      <td>2023-07-21 12:22:49</td>\n",
       "      <td>6238</td>\n",
       "      <td>movies</td>\n",
       "      <td>WyngZero</td>\n",
       "      <td>comment</td>\n",
       "      <td>Official Discussion - Barbie [SPOILERS]</td>\n",
       "      <td>[fucking, lost, barbie, margot, robbie, wa, cr...</td>\n",
       "    </tr>\n",
       "    <tr>\n",
       "      <th>...</th>\n",
       "      <td>...</td>\n",
       "      <td>...</td>\n",
       "      <td>...</td>\n",
       "      <td>...</td>\n",
       "      <td>...</td>\n",
       "      <td>...</td>\n",
       "      <td>...</td>\n",
       "      <td>...</td>\n",
       "    </tr>\n",
       "    <tr>\n",
       "      <th>7517</th>\n",
       "      <td>Piss off Hollywood, you're drunk</td>\n",
       "      <td>2023-05-25 17:59:46</td>\n",
       "      <td>-7</td>\n",
       "      <td>movies</td>\n",
       "      <td>Orodruin666</td>\n",
       "      <td>comment</td>\n",
       "      <td>Barbie | Main Trailer</td>\n",
       "      <td>[piss, hollywood, 're, drunk]</td>\n",
       "    </tr>\n",
       "    <tr>\n",
       "      <th>7518</th>\n",
       "      <td>This unironically looks like peak cinema</td>\n",
       "      <td>2023-05-25 17:35:42</td>\n",
       "      <td>-8</td>\n",
       "      <td>movies</td>\n",
       "      <td>Daydream_machine</td>\n",
       "      <td>comment</td>\n",
       "      <td>Barbie | Main Trailer</td>\n",
       "      <td>[unironically, look, like, peak, cinema]</td>\n",
       "    </tr>\n",
       "    <tr>\n",
       "      <th>7519</th>\n",
       "      <td>President Joe Biden Released a statement follo...</td>\n",
       "      <td>2023-05-25 18:08:08</td>\n",
       "      <td>-8</td>\n",
       "      <td>movies</td>\n",
       "      <td>No_Gur6255</td>\n",
       "      <td>comment</td>\n",
       "      <td>Barbie | Main Trailer</td>\n",
       "      <td>[president, joe, biden, released, statement, f...</td>\n",
       "    </tr>\n",
       "    <tr>\n",
       "      <th>7520</th>\n",
       "      <td>This looks stupid career ended for Margot and ...</td>\n",
       "      <td>2023-05-25 17:30:06</td>\n",
       "      <td>-16</td>\n",
       "      <td>movies</td>\n",
       "      <td>WrongDistribution307</td>\n",
       "      <td>comment</td>\n",
       "      <td>Barbie | Main Trailer</td>\n",
       "      <td>[look, stupid, career, ended, margot, ryan, po...</td>\n",
       "    </tr>\n",
       "    <tr>\n",
       "      <th>7521</th>\n",
       "      <td>[deleted]</td>\n",
       "      <td>2023-05-25 17:38:32</td>\n",
       "      <td>-16</td>\n",
       "      <td>movies</td>\n",
       "      <td>NaN</td>\n",
       "      <td>comment</td>\n",
       "      <td>Barbie | Main Trailer</td>\n",
       "      <td>[deleted]</td>\n",
       "    </tr>\n",
       "  </tbody>\n",
       "</table>\n",
       "<p>7522 rows × 8 columns</p>\n",
       "</div>"
      ],
      "text/plain": [
       "                                                   text             datetime  \\\n",
       "0     “To be honest, once I found out horses have ve...  2023-07-21 03:38:04   \n",
       "1                                               SUBLIME  2023-07-21 03:16:22   \n",
       "2     Everyone who doubted Ryan Gosling, or called h...  2023-07-21 03:12:49   \n",
       "3     That Ken war sequence that was half battle/hal...  2023-07-21 04:11:43   \n",
       "4     I fucking lost it when Barbie (Margot Robbie) ...  2023-07-21 12:22:49   \n",
       "...                                                 ...                  ...   \n",
       "7517                   Piss off Hollywood, you're drunk  2023-05-25 17:59:46   \n",
       "7518           This unironically looks like peak cinema  2023-05-25 17:35:42   \n",
       "7519  President Joe Biden Released a statement follo...  2023-05-25 18:08:08   \n",
       "7520  This looks stupid career ended for Margot and ...  2023-05-25 17:30:06   \n",
       "7521                                          [deleted]  2023-05-25 17:38:32   \n",
       "\n",
       "      score subreddit              redditor     type  \\\n",
       "0      9398    movies       Westtexasbizbot  comment   \n",
       "1      6618    movies         diabetesdavid  comment   \n",
       "2      6597    movies         SavageWolfe98  comment   \n",
       "3      6424    movies         MondayAssasin  comment   \n",
       "4      6238    movies              WyngZero  comment   \n",
       "...     ...       ...                   ...      ...   \n",
       "7517     -7    movies           Orodruin666  comment   \n",
       "7518     -8    movies      Daydream_machine  comment   \n",
       "7519     -8    movies            No_Gur6255  comment   \n",
       "7520    -16    movies  WrongDistribution307  comment   \n",
       "7521    -16    movies                   NaN  comment   \n",
       "\n",
       "                                        title  \\\n",
       "0     Official Discussion - Barbie [SPOILERS]   \n",
       "1     Official Discussion - Barbie [SPOILERS]   \n",
       "2     Official Discussion - Barbie [SPOILERS]   \n",
       "3     Official Discussion - Barbie [SPOILERS]   \n",
       "4     Official Discussion - Barbie [SPOILERS]   \n",
       "...                                       ...   \n",
       "7517                    Barbie | Main Trailer   \n",
       "7518                    Barbie | Main Trailer   \n",
       "7519                    Barbie | Main Trailer   \n",
       "7520                    Barbie | Main Trailer   \n",
       "7521                    Barbie | Main Trailer   \n",
       "\n",
       "                                                  words  \n",
       "0     [“, honest, found, horse, little, patriarchy, ...  \n",
       "1                                             [sublime]  \n",
       "2     [everyone, doubted, ryan, gosling, called, old...  \n",
       "3     [ken, war, sequence, wa, half, battle/half, mu...  \n",
       "4     [fucking, lost, barbie, margot, robbie, wa, cr...  \n",
       "...                                                 ...  \n",
       "7517                      [piss, hollywood, 're, drunk]  \n",
       "7518           [unironically, look, like, peak, cinema]  \n",
       "7519  [president, joe, biden, released, statement, f...  \n",
       "7520  [look, stupid, career, ended, margot, ryan, po...  \n",
       "7521                                          [deleted]  \n",
       "\n",
       "[7522 rows x 8 columns]"
      ]
     },
     "execution_count": 99,
     "metadata": {},
     "output_type": "execute_result"
    }
   ],
   "source": [
    "corpus['words'] = lemmas\n",
    "corpus"
   ]
  },
  {
   "cell_type": "code",
   "execution_count": 101,
   "id": "1b9b811b",
   "metadata": {},
   "outputs": [
    {
     "data": {
      "text/html": [
       "<div>\n",
       "<style scoped>\n",
       "    .dataframe tbody tr th:only-of-type {\n",
       "        vertical-align: middle;\n",
       "    }\n",
       "\n",
       "    .dataframe tbody tr th {\n",
       "        vertical-align: top;\n",
       "    }\n",
       "\n",
       "    .dataframe thead th {\n",
       "        text-align: right;\n",
       "    }\n",
       "</style>\n",
       "<table border=\"1\" class=\"dataframe\">\n",
       "  <thead>\n",
       "    <tr style=\"text-align: right;\">\n",
       "      <th></th>\n",
       "      <th>text</th>\n",
       "      <th>datetime</th>\n",
       "      <th>score</th>\n",
       "      <th>subreddit</th>\n",
       "      <th>redditor</th>\n",
       "      <th>type</th>\n",
       "      <th>title</th>\n",
       "      <th>words</th>\n",
       "    </tr>\n",
       "  </thead>\n",
       "  <tbody>\n",
       "    <tr>\n",
       "      <th>0</th>\n",
       "      <td>“To be honest, once I found out horses have ve...</td>\n",
       "      <td>2023-07-21 03:38:04</td>\n",
       "      <td>9398</td>\n",
       "      <td>movies</td>\n",
       "      <td>Westtexasbizbot</td>\n",
       "      <td>comment</td>\n",
       "      <td>Official Discussion - Barbie [SPOILERS]</td>\n",
       "      <td>[“, honest, found, horse, little, patriarchy, ...</td>\n",
       "    </tr>\n",
       "    <tr>\n",
       "      <th>1</th>\n",
       "      <td>SUBLIME</td>\n",
       "      <td>2023-07-21 03:16:22</td>\n",
       "      <td>6618</td>\n",
       "      <td>movies</td>\n",
       "      <td>diabetesdavid</td>\n",
       "      <td>comment</td>\n",
       "      <td>Official Discussion - Barbie [SPOILERS]</td>\n",
       "      <td>[sublime]</td>\n",
       "    </tr>\n",
       "    <tr>\n",
       "      <th>2</th>\n",
       "      <td>Everyone who doubted Ryan Gosling, or called h...</td>\n",
       "      <td>2023-07-21 03:12:49</td>\n",
       "      <td>6597</td>\n",
       "      <td>movies</td>\n",
       "      <td>SavageWolfe98</td>\n",
       "      <td>comment</td>\n",
       "      <td>Official Discussion - Barbie [SPOILERS]</td>\n",
       "      <td>[everyone, doubted, ryan, gosling, called, old...</td>\n",
       "    </tr>\n",
       "    <tr>\n",
       "      <th>3</th>\n",
       "      <td>That Ken war sequence that was half battle/hal...</td>\n",
       "      <td>2023-07-21 04:11:43</td>\n",
       "      <td>6424</td>\n",
       "      <td>movies</td>\n",
       "      <td>MondayAssasin</td>\n",
       "      <td>comment</td>\n",
       "      <td>Official Discussion - Barbie [SPOILERS]</td>\n",
       "      <td>[ken, war, sequence, wa, half, battle/half, mu...</td>\n",
       "    </tr>\n",
       "    <tr>\n",
       "      <th>4</th>\n",
       "      <td>I fucking lost it when Barbie (Margot Robbie) ...</td>\n",
       "      <td>2023-07-21 12:22:49</td>\n",
       "      <td>6238</td>\n",
       "      <td>movies</td>\n",
       "      <td>WyngZero</td>\n",
       "      <td>comment</td>\n",
       "      <td>Official Discussion - Barbie [SPOILERS]</td>\n",
       "      <td>[fucking, lost, barbie, margot, robbie, wa, cr...</td>\n",
       "    </tr>\n",
       "    <tr>\n",
       "      <th>...</th>\n",
       "      <td>...</td>\n",
       "      <td>...</td>\n",
       "      <td>...</td>\n",
       "      <td>...</td>\n",
       "      <td>...</td>\n",
       "      <td>...</td>\n",
       "      <td>...</td>\n",
       "      <td>...</td>\n",
       "    </tr>\n",
       "    <tr>\n",
       "      <th>7517</th>\n",
       "      <td>Piss off Hollywood, you're drunk</td>\n",
       "      <td>2023-05-25 17:59:46</td>\n",
       "      <td>-7</td>\n",
       "      <td>movies</td>\n",
       "      <td>Orodruin666</td>\n",
       "      <td>comment</td>\n",
       "      <td>Barbie | Main Trailer</td>\n",
       "      <td>[piss, hollywood, 're, drunk]</td>\n",
       "    </tr>\n",
       "    <tr>\n",
       "      <th>7518</th>\n",
       "      <td>This unironically looks like peak cinema</td>\n",
       "      <td>2023-05-25 17:35:42</td>\n",
       "      <td>-8</td>\n",
       "      <td>movies</td>\n",
       "      <td>Daydream_machine</td>\n",
       "      <td>comment</td>\n",
       "      <td>Barbie | Main Trailer</td>\n",
       "      <td>[unironically, look, like, peak, cinema]</td>\n",
       "    </tr>\n",
       "    <tr>\n",
       "      <th>7519</th>\n",
       "      <td>President Joe Biden Released a statement follo...</td>\n",
       "      <td>2023-05-25 18:08:08</td>\n",
       "      <td>-8</td>\n",
       "      <td>movies</td>\n",
       "      <td>No_Gur6255</td>\n",
       "      <td>comment</td>\n",
       "      <td>Barbie | Main Trailer</td>\n",
       "      <td>[president, joe, biden, released, statement, f...</td>\n",
       "    </tr>\n",
       "    <tr>\n",
       "      <th>7520</th>\n",
       "      <td>This looks stupid career ended for Margot and ...</td>\n",
       "      <td>2023-05-25 17:30:06</td>\n",
       "      <td>-16</td>\n",
       "      <td>movies</td>\n",
       "      <td>WrongDistribution307</td>\n",
       "      <td>comment</td>\n",
       "      <td>Barbie | Main Trailer</td>\n",
       "      <td>[look, stupid, career, ended, margot, ryan, po...</td>\n",
       "    </tr>\n",
       "    <tr>\n",
       "      <th>7521</th>\n",
       "      <td>[deleted]</td>\n",
       "      <td>2023-05-25 17:38:32</td>\n",
       "      <td>-16</td>\n",
       "      <td>movies</td>\n",
       "      <td>NaN</td>\n",
       "      <td>comment</td>\n",
       "      <td>Barbie | Main Trailer</td>\n",
       "      <td>[deleted]</td>\n",
       "    </tr>\n",
       "  </tbody>\n",
       "</table>\n",
       "<p>7522 rows × 8 columns</p>\n",
       "</div>"
      ],
      "text/plain": [
       "                                                   text             datetime  \\\n",
       "0     “To be honest, once I found out horses have ve...  2023-07-21 03:38:04   \n",
       "1                                               SUBLIME  2023-07-21 03:16:22   \n",
       "2     Everyone who doubted Ryan Gosling, or called h...  2023-07-21 03:12:49   \n",
       "3     That Ken war sequence that was half battle/hal...  2023-07-21 04:11:43   \n",
       "4     I fucking lost it when Barbie (Margot Robbie) ...  2023-07-21 12:22:49   \n",
       "...                                                 ...                  ...   \n",
       "7517                   Piss off Hollywood, you're drunk  2023-05-25 17:59:46   \n",
       "7518           This unironically looks like peak cinema  2023-05-25 17:35:42   \n",
       "7519  President Joe Biden Released a statement follo...  2023-05-25 18:08:08   \n",
       "7520  This looks stupid career ended for Margot and ...  2023-05-25 17:30:06   \n",
       "7521                                          [deleted]  2023-05-25 17:38:32   \n",
       "\n",
       "      score subreddit              redditor     type  \\\n",
       "0      9398    movies       Westtexasbizbot  comment   \n",
       "1      6618    movies         diabetesdavid  comment   \n",
       "2      6597    movies         SavageWolfe98  comment   \n",
       "3      6424    movies         MondayAssasin  comment   \n",
       "4      6238    movies              WyngZero  comment   \n",
       "...     ...       ...                   ...      ...   \n",
       "7517     -7    movies           Orodruin666  comment   \n",
       "7518     -8    movies      Daydream_machine  comment   \n",
       "7519     -8    movies            No_Gur6255  comment   \n",
       "7520    -16    movies  WrongDistribution307  comment   \n",
       "7521    -16    movies                   NaN  comment   \n",
       "\n",
       "                                        title  \\\n",
       "0     Official Discussion - Barbie [SPOILERS]   \n",
       "1     Official Discussion - Barbie [SPOILERS]   \n",
       "2     Official Discussion - Barbie [SPOILERS]   \n",
       "3     Official Discussion - Barbie [SPOILERS]   \n",
       "4     Official Discussion - Barbie [SPOILERS]   \n",
       "...                                       ...   \n",
       "7517                    Barbie | Main Trailer   \n",
       "7518                    Barbie | Main Trailer   \n",
       "7519                    Barbie | Main Trailer   \n",
       "7520                    Barbie | Main Trailer   \n",
       "7521                    Barbie | Main Trailer   \n",
       "\n",
       "                                                  words  \n",
       "0     [“, honest, found, horse, little, patriarchy, ...  \n",
       "1                                             [sublime]  \n",
       "2     [everyone, doubted, ryan, gosling, called, old...  \n",
       "3     [ken, war, sequence, wa, half, battle/half, mu...  \n",
       "4     [fucking, lost, barbie, margot, robbie, wa, cr...  \n",
       "...                                                 ...  \n",
       "7517                      [piss, hollywood, 're, drunk]  \n",
       "7518           [unironically, look, like, peak, cinema]  \n",
       "7519  [president, joe, biden, released, statement, f...  \n",
       "7520  [look, stupid, career, ended, margot, ryan, po...  \n",
       "7521                                          [deleted]  \n",
       "\n",
       "[7522 rows x 8 columns]"
      ]
     },
     "execution_count": 101,
     "metadata": {},
     "output_type": "execute_result"
    }
   ],
   "source": [
    "corpus.reset_index(drop=True, inplace=True)\n",
    "corpus"
   ]
  },
  {
   "cell_type": "code",
   "execution_count": 102,
   "id": "e00481f4",
   "metadata": {},
   "outputs": [
    {
     "data": {
      "text/plain": [
       "RangeIndex(start=0, stop=7522, step=1)"
      ]
     },
     "execution_count": 102,
     "metadata": {},
     "output_type": "execute_result"
    }
   ],
   "source": [
    "corpus.index"
   ]
  },
  {
   "cell_type": "markdown",
   "id": "155be4c5",
   "metadata": {},
   "source": [
    "## Initial analysis\n",
    "Once I had calculated the mean VAD scores for the 'words' in my corpus and concatenated these dataframes into a new dataset, I began some basic inital analysis. For example, calculating the mean VAD scores across the entire dataset, locating the highest VAD scores and producing some inital visualisations."
   ]
  },
  {
   "cell_type": "markdown",
   "id": "9edacfe6",
   "metadata": {},
   "source": [
    "### Sentiment analysis"
   ]
  },
  {
   "cell_type": "code",
   "execution_count": 45,
   "id": "3f862e26",
   "metadata": {},
   "outputs": [
    {
     "data": {
      "text/html": [
       "<div>\n",
       "<style scoped>\n",
       "    .dataframe tbody tr th:only-of-type {\n",
       "        vertical-align: middle;\n",
       "    }\n",
       "\n",
       "    .dataframe tbody tr th {\n",
       "        vertical-align: top;\n",
       "    }\n",
       "\n",
       "    .dataframe thead th {\n",
       "        text-align: right;\n",
       "    }\n",
       "</style>\n",
       "<table border=\"1\" class=\"dataframe\">\n",
       "  <thead>\n",
       "    <tr style=\"text-align: right;\">\n",
       "      <th></th>\n",
       "      <th>valence</th>\n",
       "      <th>arousal</th>\n",
       "      <th>dominance</th>\n",
       "    </tr>\n",
       "  </thead>\n",
       "  <tbody>\n",
       "    <tr>\n",
       "      <th>0</th>\n",
       "      <td>0.640382</td>\n",
       "      <td>0.490673</td>\n",
       "      <td>0.555016</td>\n",
       "    </tr>\n",
       "    <tr>\n",
       "      <th>1</th>\n",
       "      <td>NaN</td>\n",
       "      <td>NaN</td>\n",
       "      <td>NaN</td>\n",
       "    </tr>\n",
       "    <tr>\n",
       "      <th>2</th>\n",
       "      <td>0.656396</td>\n",
       "      <td>0.550091</td>\n",
       "      <td>0.571602</td>\n",
       "    </tr>\n",
       "    <tr>\n",
       "      <th>3</th>\n",
       "      <td>0.601765</td>\n",
       "      <td>0.550314</td>\n",
       "      <td>0.596885</td>\n",
       "    </tr>\n",
       "    <tr>\n",
       "      <th>4</th>\n",
       "      <td>0.465942</td>\n",
       "      <td>0.509530</td>\n",
       "      <td>0.507842</td>\n",
       "    </tr>\n",
       "    <tr>\n",
       "      <th>...</th>\n",
       "      <td>...</td>\n",
       "      <td>...</td>\n",
       "      <td>...</td>\n",
       "    </tr>\n",
       "    <tr>\n",
       "      <th>7517</th>\n",
       "      <td>NaN</td>\n",
       "      <td>NaN</td>\n",
       "      <td>NaN</td>\n",
       "    </tr>\n",
       "    <tr>\n",
       "      <th>7518</th>\n",
       "      <td>0.652453</td>\n",
       "      <td>0.564108</td>\n",
       "      <td>0.663430</td>\n",
       "    </tr>\n",
       "    <tr>\n",
       "      <th>7519</th>\n",
       "      <td>0.406542</td>\n",
       "      <td>0.573756</td>\n",
       "      <td>0.412621</td>\n",
       "    </tr>\n",
       "    <tr>\n",
       "      <th>7520</th>\n",
       "      <td>0.591268</td>\n",
       "      <td>0.592732</td>\n",
       "      <td>0.592233</td>\n",
       "    </tr>\n",
       "    <tr>\n",
       "      <th>7521</th>\n",
       "      <td>NaN</td>\n",
       "      <td>NaN</td>\n",
       "      <td>NaN</td>\n",
       "    </tr>\n",
       "  </tbody>\n",
       "</table>\n",
       "<p>7522 rows × 3 columns</p>\n",
       "</div>"
      ],
      "text/plain": [
       "       valence   arousal  dominance\n",
       "0     0.640382  0.490673   0.555016\n",
       "1          NaN       NaN        NaN\n",
       "2     0.656396  0.550091   0.571602\n",
       "3     0.601765  0.550314   0.596885\n",
       "4     0.465942  0.509530   0.507842\n",
       "...        ...       ...        ...\n",
       "7517       NaN       NaN        NaN\n",
       "7518  0.652453  0.564108   0.663430\n",
       "7519  0.406542  0.573756   0.412621\n",
       "7520  0.591268  0.592732   0.592233\n",
       "7521       NaN       NaN        NaN\n",
       "\n",
       "[7522 rows x 3 columns]"
      ]
     },
     "execution_count": 45,
     "metadata": {},
     "output_type": "execute_result"
    }
   ],
   "source": [
    "vad = pd.read_excel('vad.xlsx', index_col = 0)\n",
    "\n",
    "vad_ = []\n",
    "\n",
    "c = [np.nan for i in range(len(vad.columns))]\n",
    "\n",
    "for i in corpus['words']:\n",
    "    words = [j for j in i if j in vad.index]\n",
    "    vad_1 = []\n",
    "    for k in words:\n",
    "        try:\n",
    "            vad_1.append(vad.loc[k])\n",
    "        except:\n",
    "            vad_1.append(c)\n",
    "    vad_df = pd.DataFrame(vad_1, columns = [i for i in vad.columns])\n",
    "    vad_.append(vad_df.mean())\n",
    "        \n",
    "\n",
    "vad_ = pd.DataFrame(vad_)\n",
    "vad_"
   ]
  },
  {
   "cell_type": "code",
   "execution_count": 46,
   "id": "7ead26c6",
   "metadata": {},
   "outputs": [
    {
     "data": {
      "text/plain": [
       "RangeIndex(start=0, stop=7522, step=1)"
      ]
     },
     "execution_count": 46,
     "metadata": {},
     "output_type": "execute_result"
    }
   ],
   "source": [
    "vad_.index"
   ]
  },
  {
   "cell_type": "code",
   "execution_count": 47,
   "id": "729d5a6b",
   "metadata": {},
   "outputs": [
    {
     "data": {
      "text/html": [
       "<div>\n",
       "<style scoped>\n",
       "    .dataframe tbody tr th:only-of-type {\n",
       "        vertical-align: middle;\n",
       "    }\n",
       "\n",
       "    .dataframe tbody tr th {\n",
       "        vertical-align: top;\n",
       "    }\n",
       "\n",
       "    .dataframe thead th {\n",
       "        text-align: right;\n",
       "    }\n",
       "</style>\n",
       "<table border=\"1\" class=\"dataframe\">\n",
       "  <thead>\n",
       "    <tr style=\"text-align: right;\">\n",
       "      <th></th>\n",
       "      <th>text</th>\n",
       "      <th>datetime</th>\n",
       "      <th>score</th>\n",
       "      <th>subreddit</th>\n",
       "      <th>redditor</th>\n",
       "      <th>type</th>\n",
       "      <th>title</th>\n",
       "      <th>words</th>\n",
       "      <th>valence</th>\n",
       "      <th>arousal</th>\n",
       "      <th>dominance</th>\n",
       "    </tr>\n",
       "  </thead>\n",
       "  <tbody>\n",
       "    <tr>\n",
       "      <th>0</th>\n",
       "      <td>“To be honest, once I found out horses have ve...</td>\n",
       "      <td>2023-07-21 03:38:04</td>\n",
       "      <td>9398</td>\n",
       "      <td>movies</td>\n",
       "      <td>Westtexasbizbot</td>\n",
       "      <td>comment</td>\n",
       "      <td>Official Discussion - Barbie [SPOILERS]</td>\n",
       "      <td>[“, honest, found, horse, little, patriarchy, ...</td>\n",
       "      <td>0.640382</td>\n",
       "      <td>0.490673</td>\n",
       "      <td>0.555016</td>\n",
       "    </tr>\n",
       "    <tr>\n",
       "      <th>1</th>\n",
       "      <td>SUBLIME</td>\n",
       "      <td>2023-07-21 03:16:22</td>\n",
       "      <td>6618</td>\n",
       "      <td>movies</td>\n",
       "      <td>diabetesdavid</td>\n",
       "      <td>comment</td>\n",
       "      <td>Official Discussion - Barbie [SPOILERS]</td>\n",
       "      <td>[sublime]</td>\n",
       "      <td>NaN</td>\n",
       "      <td>NaN</td>\n",
       "      <td>NaN</td>\n",
       "    </tr>\n",
       "    <tr>\n",
       "      <th>2</th>\n",
       "      <td>Everyone who doubted Ryan Gosling, or called h...</td>\n",
       "      <td>2023-07-21 03:12:49</td>\n",
       "      <td>6597</td>\n",
       "      <td>movies</td>\n",
       "      <td>SavageWolfe98</td>\n",
       "      <td>comment</td>\n",
       "      <td>Official Discussion - Barbie [SPOILERS]</td>\n",
       "      <td>[everyone, doubted, ryan, gosling, called, old...</td>\n",
       "      <td>0.656396</td>\n",
       "      <td>0.550091</td>\n",
       "      <td>0.571602</td>\n",
       "    </tr>\n",
       "    <tr>\n",
       "      <th>3</th>\n",
       "      <td>That Ken war sequence that was half battle/hal...</td>\n",
       "      <td>2023-07-21 04:11:43</td>\n",
       "      <td>6424</td>\n",
       "      <td>movies</td>\n",
       "      <td>MondayAssasin</td>\n",
       "      <td>comment</td>\n",
       "      <td>Official Discussion - Barbie [SPOILERS]</td>\n",
       "      <td>[ken, war, sequence, wa, half, battle/half, mu...</td>\n",
       "      <td>0.601765</td>\n",
       "      <td>0.550314</td>\n",
       "      <td>0.596885</td>\n",
       "    </tr>\n",
       "    <tr>\n",
       "      <th>4</th>\n",
       "      <td>I fucking lost it when Barbie (Margot Robbie) ...</td>\n",
       "      <td>2023-07-21 12:22:49</td>\n",
       "      <td>6238</td>\n",
       "      <td>movies</td>\n",
       "      <td>WyngZero</td>\n",
       "      <td>comment</td>\n",
       "      <td>Official Discussion - Barbie [SPOILERS]</td>\n",
       "      <td>[fucking, lost, barbie, margot, robbie, wa, cr...</td>\n",
       "      <td>0.465942</td>\n",
       "      <td>0.509530</td>\n",
       "      <td>0.507842</td>\n",
       "    </tr>\n",
       "    <tr>\n",
       "      <th>...</th>\n",
       "      <td>...</td>\n",
       "      <td>...</td>\n",
       "      <td>...</td>\n",
       "      <td>...</td>\n",
       "      <td>...</td>\n",
       "      <td>...</td>\n",
       "      <td>...</td>\n",
       "      <td>...</td>\n",
       "      <td>...</td>\n",
       "      <td>...</td>\n",
       "      <td>...</td>\n",
       "    </tr>\n",
       "    <tr>\n",
       "      <th>7517</th>\n",
       "      <td>Piss off Hollywood, you're drunk</td>\n",
       "      <td>2023-05-25 17:59:46</td>\n",
       "      <td>-7</td>\n",
       "      <td>movies</td>\n",
       "      <td>Orodruin666</td>\n",
       "      <td>comment</td>\n",
       "      <td>Barbie | Main Trailer</td>\n",
       "      <td>[piss, hollywood, 're, drunk]</td>\n",
       "      <td>NaN</td>\n",
       "      <td>NaN</td>\n",
       "      <td>NaN</td>\n",
       "    </tr>\n",
       "    <tr>\n",
       "      <th>7518</th>\n",
       "      <td>This unironically looks like peak cinema</td>\n",
       "      <td>2023-05-25 17:35:42</td>\n",
       "      <td>-8</td>\n",
       "      <td>movies</td>\n",
       "      <td>Daydream_machine</td>\n",
       "      <td>comment</td>\n",
       "      <td>Barbie | Main Trailer</td>\n",
       "      <td>[unironically, look, like, peak, cinema]</td>\n",
       "      <td>0.652453</td>\n",
       "      <td>0.564108</td>\n",
       "      <td>0.663430</td>\n",
       "    </tr>\n",
       "    <tr>\n",
       "      <th>7519</th>\n",
       "      <td>President Joe Biden Released a statement follo...</td>\n",
       "      <td>2023-05-25 18:08:08</td>\n",
       "      <td>-8</td>\n",
       "      <td>movies</td>\n",
       "      <td>No_Gur6255</td>\n",
       "      <td>comment</td>\n",
       "      <td>Barbie | Main Trailer</td>\n",
       "      <td>[president, joe, biden, released, statement, f...</td>\n",
       "      <td>0.406542</td>\n",
       "      <td>0.573756</td>\n",
       "      <td>0.412621</td>\n",
       "    </tr>\n",
       "    <tr>\n",
       "      <th>7520</th>\n",
       "      <td>This looks stupid career ended for Margot and ...</td>\n",
       "      <td>2023-05-25 17:30:06</td>\n",
       "      <td>-16</td>\n",
       "      <td>movies</td>\n",
       "      <td>WrongDistribution307</td>\n",
       "      <td>comment</td>\n",
       "      <td>Barbie | Main Trailer</td>\n",
       "      <td>[look, stupid, career, ended, margot, ryan, po...</td>\n",
       "      <td>0.591268</td>\n",
       "      <td>0.592732</td>\n",
       "      <td>0.592233</td>\n",
       "    </tr>\n",
       "    <tr>\n",
       "      <th>7521</th>\n",
       "      <td>[deleted]</td>\n",
       "      <td>2023-05-25 17:38:32</td>\n",
       "      <td>-16</td>\n",
       "      <td>movies</td>\n",
       "      <td>NaN</td>\n",
       "      <td>comment</td>\n",
       "      <td>Barbie | Main Trailer</td>\n",
       "      <td>[deleted]</td>\n",
       "      <td>NaN</td>\n",
       "      <td>NaN</td>\n",
       "      <td>NaN</td>\n",
       "    </tr>\n",
       "  </tbody>\n",
       "</table>\n",
       "<p>7522 rows × 11 columns</p>\n",
       "</div>"
      ],
      "text/plain": [
       "                                                   text             datetime  \\\n",
       "0     “To be honest, once I found out horses have ve...  2023-07-21 03:38:04   \n",
       "1                                               SUBLIME  2023-07-21 03:16:22   \n",
       "2     Everyone who doubted Ryan Gosling, or called h...  2023-07-21 03:12:49   \n",
       "3     That Ken war sequence that was half battle/hal...  2023-07-21 04:11:43   \n",
       "4     I fucking lost it when Barbie (Margot Robbie) ...  2023-07-21 12:22:49   \n",
       "...                                                 ...                  ...   \n",
       "7517                   Piss off Hollywood, you're drunk  2023-05-25 17:59:46   \n",
       "7518           This unironically looks like peak cinema  2023-05-25 17:35:42   \n",
       "7519  President Joe Biden Released a statement follo...  2023-05-25 18:08:08   \n",
       "7520  This looks stupid career ended for Margot and ...  2023-05-25 17:30:06   \n",
       "7521                                          [deleted]  2023-05-25 17:38:32   \n",
       "\n",
       "      score subreddit              redditor     type  \\\n",
       "0      9398    movies       Westtexasbizbot  comment   \n",
       "1      6618    movies         diabetesdavid  comment   \n",
       "2      6597    movies         SavageWolfe98  comment   \n",
       "3      6424    movies         MondayAssasin  comment   \n",
       "4      6238    movies              WyngZero  comment   \n",
       "...     ...       ...                   ...      ...   \n",
       "7517     -7    movies           Orodruin666  comment   \n",
       "7518     -8    movies      Daydream_machine  comment   \n",
       "7519     -8    movies            No_Gur6255  comment   \n",
       "7520    -16    movies  WrongDistribution307  comment   \n",
       "7521    -16    movies                   NaN  comment   \n",
       "\n",
       "                                        title  \\\n",
       "0     Official Discussion - Barbie [SPOILERS]   \n",
       "1     Official Discussion - Barbie [SPOILERS]   \n",
       "2     Official Discussion - Barbie [SPOILERS]   \n",
       "3     Official Discussion - Barbie [SPOILERS]   \n",
       "4     Official Discussion - Barbie [SPOILERS]   \n",
       "...                                       ...   \n",
       "7517                    Barbie | Main Trailer   \n",
       "7518                    Barbie | Main Trailer   \n",
       "7519                    Barbie | Main Trailer   \n",
       "7520                    Barbie | Main Trailer   \n",
       "7521                    Barbie | Main Trailer   \n",
       "\n",
       "                                                  words   valence   arousal  \\\n",
       "0     [“, honest, found, horse, little, patriarchy, ...  0.640382  0.490673   \n",
       "1                                             [sublime]       NaN       NaN   \n",
       "2     [everyone, doubted, ryan, gosling, called, old...  0.656396  0.550091   \n",
       "3     [ken, war, sequence, wa, half, battle/half, mu...  0.601765  0.550314   \n",
       "4     [fucking, lost, barbie, margot, robbie, wa, cr...  0.465942  0.509530   \n",
       "...                                                 ...       ...       ...   \n",
       "7517                      [piss, hollywood, 're, drunk]       NaN       NaN   \n",
       "7518           [unironically, look, like, peak, cinema]  0.652453  0.564108   \n",
       "7519  [president, joe, biden, released, statement, f...  0.406542  0.573756   \n",
       "7520  [look, stupid, career, ended, margot, ryan, po...  0.591268  0.592732   \n",
       "7521                                          [deleted]       NaN       NaN   \n",
       "\n",
       "      dominance  \n",
       "0      0.555016  \n",
       "1           NaN  \n",
       "2      0.571602  \n",
       "3      0.596885  \n",
       "4      0.507842  \n",
       "...         ...  \n",
       "7517        NaN  \n",
       "7518   0.663430  \n",
       "7519   0.412621  \n",
       "7520   0.592233  \n",
       "7521        NaN  \n",
       "\n",
       "[7522 rows x 11 columns]"
      ]
     },
     "execution_count": 47,
     "metadata": {},
     "output_type": "execute_result"
    }
   ],
   "source": [
    "dataset = pd.concat([corpus, vad_], axis = 1)\n",
    "dataset"
   ]
  },
  {
   "cell_type": "code",
   "execution_count": 95,
   "id": "e3042623",
   "metadata": {},
   "outputs": [
    {
     "data": {
      "text/plain": [
       "0.6307055451699524"
      ]
     },
     "execution_count": 95,
     "metadata": {},
     "output_type": "execute_result"
    }
   ],
   "source": [
    "dataset['valence'].mean()"
   ]
  },
  {
   "cell_type": "code",
   "execution_count": 93,
   "id": "04d69978",
   "metadata": {},
   "outputs": [
    {
     "data": {
      "text/plain": [
       "0.5348613278880371"
      ]
     },
     "execution_count": 93,
     "metadata": {},
     "output_type": "execute_result"
    }
   ],
   "source": [
    "dataset['arousal'].mean()"
   ]
  },
  {
   "cell_type": "code",
   "execution_count": 94,
   "id": "d04de7b1",
   "metadata": {},
   "outputs": [
    {
     "data": {
      "text/plain": [
       "0.6136237847825599"
      ]
     },
     "execution_count": 94,
     "metadata": {},
     "output_type": "execute_result"
    }
   ],
   "source": [
    "dataset['dominance'].mean()"
   ]
  },
  {
   "cell_type": "code",
   "execution_count": 103,
   "id": "b4173f96",
   "metadata": {},
   "outputs": [
    {
     "data": {
      "text/plain": [
       "1758"
      ]
     },
     "execution_count": 103,
     "metadata": {},
     "output_type": "execute_result"
    }
   ],
   "source": [
    "dataset['valence'].idxmax()"
   ]
  },
  {
   "cell_type": "code",
   "execution_count": 104,
   "id": "62647089",
   "metadata": {},
   "outputs": [
    {
     "data": {
      "text/plain": [
       "text         I am in love with (patriarchy-bringer) Ken. Th...\n",
       "datetime                                   2023-07-22 13:29:52\n",
       "score                                                        6\n",
       "subreddit                                               movies\n",
       "redditor                                                Razik_\n",
       "type                                                   comment\n",
       "title                  Official Discussion - Barbie [SPOILERS]\n",
       "words                      [love, patriarchy-bringer, ken, 's]\n",
       "valence                                               0.971963\n",
       "arousal                                               0.757719\n",
       "dominance                                             0.684466\n",
       "Name: 1758, dtype: object"
      ]
     },
     "execution_count": 104,
     "metadata": {},
     "output_type": "execute_result"
    }
   ],
   "source": [
    "dataset.iloc[1758]"
   ]
  },
  {
   "cell_type": "code",
   "execution_count": 105,
   "id": "c9628366",
   "metadata": {},
   "outputs": [
    {
     "data": {
      "text/plain": [
       "3655"
      ]
     },
     "execution_count": 105,
     "metadata": {},
     "output_type": "execute_result"
    }
   ],
   "source": [
    "dataset['arousal'].idxmax()"
   ]
  },
  {
   "cell_type": "code",
   "execution_count": 106,
   "id": "44cadda6",
   "metadata": {},
   "outputs": [
    {
     "data": {
      "text/plain": [
       "text                             It was boring as fuck\n",
       "datetime                           2023-10-17 05:36:35\n",
       "score                                                1\n",
       "subreddit                              TwoXChromosomes\n",
       "redditor                               CranberryNo1448\n",
       "type                                           comment\n",
       "title        Women who disliked the Barbie movie, why?\n",
       "words                               [wa, boring, fuck]\n",
       "valence                                       0.569819\n",
       "arousal                                       0.993139\n",
       "dominance                                     0.650485\n",
       "Name: 3655, dtype: object"
      ]
     },
     "execution_count": 106,
     "metadata": {},
     "output_type": "execute_result"
    }
   ],
   "source": [
    "dataset.iloc[3655]"
   ]
  },
  {
   "cell_type": "code",
   "execution_count": 107,
   "id": "d3962912",
   "metadata": {},
   "outputs": [
    {
     "data": {
      "text/plain": [
       "6994"
      ]
     },
     "execution_count": 107,
     "metadata": {},
     "output_type": "execute_result"
    }
   ],
   "source": [
    "dataset['dominance'].idxmax()"
   ]
  },
  {
   "cell_type": "code",
   "execution_count": 108,
   "id": "5a6ff68c",
   "metadata": {},
   "outputs": [
    {
     "data": {
      "text/plain": [
       "text            Cautiously optimistic\n",
       "datetime          2023-05-26 10:01:14\n",
       "score                               2\n",
       "subreddit                      movies\n",
       "redditor         PM_ME_WHT_PHOSPHORUS\n",
       "type                          comment\n",
       "title           Barbie | Main Trailer\n",
       "words        [cautiously, optimistic]\n",
       "valence                      0.766355\n",
       "arousal                      0.761578\n",
       "dominance                    0.932039\n",
       "Name: 6994, dtype: object"
      ]
     },
     "execution_count": 108,
     "metadata": {},
     "output_type": "execute_result"
    }
   ],
   "source": [
    "dataset.iloc[6994]"
   ]
  },
  {
   "cell_type": "code",
   "execution_count": 109,
   "id": "0f69b62b",
   "metadata": {},
   "outputs": [
    {
     "name": "stderr",
     "output_type": "stream",
     "text": [
      "C:\\Users\\charl\\anaconda3\\Lib\\site-packages\\seaborn\\axisgrid.py:118: UserWarning: The figure layout has changed to tight\n",
      "  self._figure.tight_layout(*args, **kwargs)\n"
     ]
    },
    {
     "data": {
      "text/plain": [
       "<seaborn.axisgrid.FacetGrid at 0x2da25df1b10>"
      ]
     },
     "execution_count": 109,
     "metadata": {},
     "output_type": "execute_result"
    },
    {
     "data": {
      "image/png": "[encoded data removed]",
      "text/plain": [
       "<Figure size 500x500 with 1 Axes>"
      ]
     },
     "metadata": {},
     "output_type": "display_data"
    }
   ],
   "source": [
    "sns.displot(dataset['dominance'])"
   ]
  },
  {
   "cell_type": "code",
   "execution_count": 110,
   "id": "ad66a438",
   "metadata": {},
   "outputs": [
    {
     "name": "stderr",
     "output_type": "stream",
     "text": [
      "C:\\Users\\charl\\anaconda3\\Lib\\site-packages\\seaborn\\axisgrid.py:118: UserWarning: The figure layout has changed to tight\n",
      "  self._figure.tight_layout(*args, **kwargs)\n"
     ]
    },
    {
     "data": {
      "text/plain": [
       "<seaborn.axisgrid.FacetGrid at 0x2da25f20590>"
      ]
     },
     "execution_count": 110,
     "metadata": {},
     "output_type": "execute_result"
    },
    {
     "data": {
      "image/png": "[encoded data removed]",
      "text/plain": [
       "<Figure size 500x500 with 1 Axes>"
      ]
     },
     "metadata": {},
     "output_type": "display_data"
    }
   ],
   "source": [
    "sns.displot(vad['dominance'])"
   ]
  },
  {
   "cell_type": "code",
   "execution_count": 112,
   "id": "4ac9dfca",
   "metadata": {},
   "outputs": [
    {
     "data": {
      "text/plain": [
       "<matplotlib.collections.PathCollection at 0x2da26084290>"
      ]
     },
     "execution_count": 112,
     "metadata": {},
     "output_type": "execute_result"
    },
    {
     "data": {
      "image/png": "[encoded data removed]",
      "text/plain": [
       "<Figure size 640x480 with 1 Axes>"
      ]
     },
     "metadata": {},
     "output_type": "display_data"
    }
   ],
   "source": [
    "plt.scatter((dataset['dominance']), (dataset['arousal']))"
   ]
  },
  {
   "cell_type": "code",
   "execution_count": 113,
   "id": "2c124667",
   "metadata": {},
   "outputs": [
    {
     "data": {
      "text/plain": [
       "<matplotlib.collections.PathCollection at 0x2da271d4b90>"
      ]
     },
     "execution_count": 113,
     "metadata": {},
     "output_type": "execute_result"
    },
    {
     "data": {
      "image/png": "[encoded data removed]",
      "text/plain": [
       "<Figure size 640x480 with 1 Axes>"
      ]
     },
     "metadata": {},
     "output_type": "display_data"
    }
   ],
   "source": [
    "plt.scatter((dataset['dominance']), (dataset['score']))"
   ]
  },
  {
   "cell_type": "code",
   "execution_count": 89,
   "id": "f9d01765",
   "metadata": {},
   "outputs": [
    {
     "data": {
      "text/plain": [
       "4008"
      ]
     },
     "execution_count": 89,
     "metadata": {},
     "output_type": "execute_result"
    }
   ],
   "source": [
    "dataset['score'].idxmax()"
   ]
  },
  {
   "cell_type": "code",
   "execution_count": 90,
   "id": "4ae4250f",
   "metadata": {},
   "outputs": [
    {
     "data": {
      "text/plain": [
       "text         Idk, I watched Simpsons growing up and I didn'...\n",
       "datetime                                   2023-07-27 13:10:55\n",
       "score                                                    28177\n",
       "subreddit                                             facepalm\n",
       "redditor                                                   NaN\n",
       "type                                                   comment\n",
       "title        Is the Barbie movie really that inappropriate ...\n",
       "words        [idk, watched, simpson, growing, n't, understa...\n",
       "valence                                               0.716511\n",
       "arousal                                               0.632832\n",
       "dominance                                             0.566748\n",
       "Name: 4008, dtype: object"
      ]
     },
     "execution_count": 90,
     "metadata": {},
     "output_type": "execute_result"
    }
   ],
   "source": [
    "dataset.iloc[4008]"
   ]
  },
  {
   "cell_type": "markdown",
   "id": "dc5cdc07",
   "metadata": {},
   "source": [
    "## Next steps\n",
    "My next steps for future analysis will include conducting topic modelling to discover recurring themes and topics discussed in the comments. This can reveal what aspects of the movie resonate most with the audience, what concerns they have, and what interpretations they are forming. I also aim to compare the topics identified across the different discussion threads to see if there are any variations in focus or perspective. Moving on from this, I will combine topic modelling with sentiment analysis to understand the overall sentiment towards each topic. This can reveal what aspects of the movie generate positive, negative or neutral reactions and can analyze how sentiment varies within individual topics based on specific keywords or phrases used."
   ]
  }
 ],
 "metadata": {
  "kernelspec": {
   "display_name": "Python 3 (ipykernel)",
   "language": "python",
   "name": "python3"
  },
  "language_info": {
   "codemirror_mode": {
    "name": "ipython",
    "version": 3
   },
   "file_extension": ".py",
   "mimetype": "text/x-python",
   "name": "python",
   "nbconvert_exporter": "python",
   "pygments_lexer": "ipython3",
   "version": "3.11.5"
  }
 },
 "nbformat": 4,
 "nbformat_minor": 5
}
